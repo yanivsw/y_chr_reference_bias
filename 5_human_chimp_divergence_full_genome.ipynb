{
 "cells": [
  {
   "cell_type": "code",
   "execution_count": 1,
   "metadata": {},
   "outputs": [
    {
     "name": "stdout",
     "output_type": "stream",
     "text": [
      "chr1\n",
      "chr2\n",
      "chr3\n",
      "chr4\n",
      "chr5\n",
      "chr6\n",
      "chr7\n",
      "chr8\n",
      "chr9\n",
      "chr10\n",
      "chr11\n",
      "chr12\n",
      "chr13\n",
      "chr14\n",
      "chr15\n",
      "chr16\n",
      "chr17\n",
      "chr18\n",
      "chr19\n",
      "chr20\n",
      "chr21\n",
      "chr22\n",
      "chrX\n",
      "chrY\n"
     ]
    }
   ],
   "source": [
    "from human_chimp_divergence.maf_filter_by_species_set import filter_maf\n",
    "\n",
    "chimp = 'panTro6'\n",
    "human = 'hg19'\n",
    "\n",
    "input_maf = 'human_chimp_divergence/hg19.panTro6.synNet.maf.gz'\n",
    "\n",
    "for x in list(range(1,23)) + ['X', 'Y']:\n",
    "    chr = 'chr' + str(x)\n",
    "    print(chr)\n",
    "    filtered_maf = 'human_chimp_divergence/genome/' + chr + '.hg19.panTro6.maf'\n",
    "    contigs = {\n",
    "        'human' : chr,\n",
    "        'chimp' : None\n",
    "    }\n",
    "    filter_maf(human, chimp, input_maf, contigs, 2000, filtered_maf)\n"
   ]
  },
  {
   "cell_type": "code",
   "execution_count": 2,
   "metadata": {},
   "outputs": [
    {
     "name": "stdout",
     "output_type": "stream",
     "text": [
      "chr1\n"
     ]
    },
    {
     "name": "stdout",
     "output_type": "stream",
     "text": [
      "chr2\n",
      "chr3\n",
      "chr4\n",
      "chr5\n",
      "chr6\n",
      "chr7\n",
      "chr8\n",
      "chr9\n",
      "chr10\n",
      "chr11\n",
      "chr12\n",
      "chr13\n",
      "chr14\n",
      "chr15\n",
      "chr16\n",
      "chr17\n",
      "chr18\n",
      "chr19\n",
      "chr20\n",
      "chr21\n",
      "chr22\n",
      "chrX\n",
      "chrY\n"
     ]
    }
   ],
   "source": [
    "from human_chimp_divergence.maf_to_pairwise_identity import maf_to_pairwise_identity\n",
    "\n",
    "for x in list(range(1,23)) + ['X', 'Y']:\n",
    "    chr = 'chr' + str(x)\n",
    "    print(chr)\n",
    "\n",
    "    filtered_maf = 'human_chimp_divergence/genome/' + chr + '.hg19.panTro6.maf'\n",
    "    identity_file = filtered_maf + '.pairwise_identity'\n",
    "\n",
    "    fasta_files = {\n",
    "        'hg19'    : 'human_chimp_divergence/genome/hg19.' + chr + '.fa.gz',\n",
    "        'panTro6' : '',\n",
    "    }\n",
    "\n",
    "    maf_to_pairwise_identity(fasta_files, filtered_maf, identity_file)"
   ]
  },
  {
   "cell_type": "code",
   "execution_count": 1,
   "metadata": {},
   "outputs": [
    {
     "name": "stdout",
     "output_type": "stream",
     "text": [
      "chr\tchr_size\tn_aligned\tmatch\t\taligned\t\tdivergence\n",
      "chr1\t249250621\t220003258\t216561324\t88.2659%\t1.5645%\n",
      "chr2\t243199373\t233002943\t229271492\t95.8074%\t1.6015%\n",
      "chr3\t198022430\t191967340\t188940607\t96.9422%\t1.5767%\n",
      "chr4\t191154276\t184023981\t180955938\t96.2699%\t1.6672%\n",
      "chr5\t180915260\t173796962\t171018792\t96.0654%\t1.5985%\n",
      "chr6\t171115067\t164706693\t162099061\t96.2549%\t1.5832%\n",
      "chr7\t159138663\t151191772\t148681907\t95.0063%\t1.6601%\n",
      "chr8\t146364022\t139041549\t136643930\t94.9971%\t1.7244%\n",
      "chr9\t141213431\t115530327\t113555110\t81.8126%\t1.7097%\n",
      "chr10\t135534747\t128184756\t126090839\t94.5770%\t1.6335%\n",
      "chr11\t135006516\t127555883\t125484915\t94.4813%\t1.6236%\n",
      "chr12\t133851895\t127740213\t125707764\t95.4340%\t1.5911%\n",
      "chr13\t115169878\t94048017\t92511401\t81.6603%\t1.6339%\n",
      "chr14\t107349540\t86268707\t84883347\t80.3624%\t1.6059%\n",
      "chr15\t102531392\t79807244\t78472805\t77.8369%\t1.6721%\n",
      "chr16\t90354753\t76548528\t75123581\t84.7200%\t1.8615%\n",
      "chr17\t81195210\t75417520\t74185773\t92.8842%\t1.6332%\n",
      "chr18\t78077248\t73495062\t72290935\t94.1312%\t1.6384%\n",
      "chr19\t59128983\t53029552\t51985861\t89.6845%\t1.9681%\n",
      "chr20\t63025520\t58424483\t57457298\t92.6997%\t1.6554%\n",
      "chr21\t48129895\t33933096\t33296444\t70.5032%\t1.8762%\n",
      "chr22\t51304566\t33615984\t32976161\t65.5224%\t1.9033%\n",
      "chrX\t155270560\t144934843\t143026275\t93.3434%\t1.3168%\n",
      "chrY\t59373566\t21473008\t20743757\t36.1659%\t3.3961%\n"
     ]
    }
   ],
   "source": [
    "import pandas as pd\n",
    "import gzip\n",
    "\n",
    "print(\"%s\\t%s\\t%s\\t%s\\t\\t%s\\t\\t%s\" % (\"chr\", 'chr_size', 'n_aligned', \"match\", \"aligned\", \"divergence\"))\n",
    "\n",
    "for x in list(range(1,23)) + ['X', 'Y']:\n",
    "    chr = 'chr' + str(x)\n",
    "\n",
    "    pairwise_identity_file = 'human_chimp_divergence/genome/' + chr + '.hg19.panTro6.maf.pairwise_identity'\n",
    "    pairwise_identity = pd.read_csv(pairwise_identity_file, sep='\\t', header=None, index_col=None)\n",
    "\n",
    "    fasta = 'human_chimp_divergence/genome/hg19.' + chr + '.fa.gz'\n",
    "    \n",
    "    with gzip.open(fasta, 'rt') as file:\n",
    "        fasta_data = file.read()\n",
    "    fasta_data = fasta_data.split('\\n',1)\n",
    "    fasta_data = fasta_data[1].replace('\\n', '')\n",
    "    chr_size = len(fasta_data)\n",
    "\n",
    "    pairwise_identity_full = pd.DataFrame(index=range(0, chr_size+1))\n",
    "    pairwise_identity_full[0] = 'N'\n",
    "    pairwise_identity_full[0][pairwise_identity_full.index.isin(pairwise_identity[1].values)] = pairwise_identity[2].values\n",
    "\n",
    "    match = len(pairwise_identity_full[pairwise_identity_full[0] == 'M'])\n",
    "    substitution = len(pairwise_identity_full[pairwise_identity_full[0] == 'S'])\n",
    "    insertion = len(pairwise_identity_full[pairwise_identity_full[0] == 'I'])\n",
    "\n",
    "    print(\"%s\\t%d\\t%d\\t%d\\t%.4f%%\\t%.4f%%\" % (chr, chr_size, (match + substitution + insertion), match,\n",
    "            100.0 * (match + substitution + insertion) / chr_size,\n",
    "            100.0 * (1 - match / (match + substitution + insertion) ) ) )"
   ]
  }
 ],
 "metadata": {
  "kernelspec": {
   "display_name": "Python 3",
   "language": "python",
   "name": "python3"
  },
  "language_info": {
   "codemirror_mode": {
    "name": "ipython",
    "version": 3
   },
   "file_extension": ".py",
   "mimetype": "text/x-python",
   "name": "python",
   "nbconvert_exporter": "python",
   "pygments_lexer": "ipython3",
   "version": "3.8.10"
  }
 },
 "nbformat": 4,
 "nbformat_minor": 2
}
