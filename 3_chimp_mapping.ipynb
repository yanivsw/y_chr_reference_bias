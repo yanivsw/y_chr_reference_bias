{
 "cells": [
  {
   "cell_type": "code",
   "execution_count": 1,
   "metadata": {},
   "outputs": [
    {
     "name": "stdout",
     "output_type": "stream",
     "text": [
      "ShumLaka\n",
      "Ust_Ishim\n",
      "{'ShumLaka': {'hets': 1296, 'cov': 7.79, 'private_mutations': 653}, 'Ust_Ishim': {'hets': 1024, 'cov': 7.45, 'private_mutations': 700}, 'genotypes': 3086002}\n"
     ]
    }
   ],
   "source": [
    "import pandas as pd\n",
    "import numpy as np\n",
    "import utils.VcfHandler as VcfHandler \n",
    "\n",
    "data = VcfHandler.convert_vcf_to_dataframe('data/input_data/chimp_mapped/data_full_merged.chimp_mapped.map35_100.GCcov.noSimpleRepeat.vcf.gz', convert_hets=False)\n",
    "data = data[~data['ALT'].str.contains(\",\")]\n",
    "\n",
    "ShumLaka_coverage = data['ShumLaka', 'DP'].mean()\n",
    "Ust_Ishim_coverage = data['Ust_Ishim', 'DP'].mean()\n",
    "\n",
    "ShumLaka_hets = data[(data['ShumLaka', 'Heterozygote'] == 1) & (data['Ust_Ishim', 'Heterozygote'].notna())]\n",
    "Ust_Ishim_hets = data[(data['Ust_Ishim', 'Heterozygote'] == 1) & (data['ShumLaka', 'Heterozygote'].notna())]\n",
    "\n",
    "data = data[data['Ust_Ishim', 'Heterozygote'] == 0]\n",
    "data = data[data['ShumLaka', 'Heterozygote'] == 0]\n",
    "data = data.dropna()\n",
    "\n",
    "Ust_Ishim_mutations = len(data[(data['Ust_Ishim', 'GT'] == 1) & (data['ShumLaka', 'GT'] == 0)])\n",
    "ShumLaka_mutations = len(data[(data['Ust_Ishim', 'GT'] == 0) & (data['ShumLaka', 'GT'] == 1)])\n",
    "\n",
    "res = {\n",
    "    'ShumLaka' : {\n",
    "        'hets' : len(ShumLaka_hets),\n",
    "        'cov' : np.round(ShumLaka_coverage, 2),\n",
    "        'private_mutations' : ShumLaka_mutations,\n",
    "    },\n",
    "    'Ust_Ishim' : {\n",
    "        'hets' : len(Ust_Ishim_hets),\n",
    "        'cov' : np.round(Ust_Ishim_coverage, 2),\n",
    "        'private_mutations' : Ust_Ishim_mutations,\n",
    "    },\n",
    "    'genotypes' : len(data),\n",
    "}\n",
    "\n",
    "print(res)\n"
   ]
  }
 ],
 "metadata": {
  "kernelspec": {
   "display_name": "Python 3",
   "language": "python",
   "name": "python3"
  },
  "language_info": {
   "codemirror_mode": {
    "name": "ipython",
    "version": 3
   },
   "file_extension": ".py",
   "mimetype": "text/x-python",
   "name": "python",
   "nbconvert_exporter": "python",
   "pygments_lexer": "ipython3",
   "version": "3.8.10"
  }
 },
 "nbformat": 4,
 "nbformat_minor": 2
}
